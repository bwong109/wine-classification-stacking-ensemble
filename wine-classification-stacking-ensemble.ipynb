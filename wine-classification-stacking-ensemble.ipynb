{
 "cells": [
  {
   "cell_type": "code",
   "execution_count": null,
   "id": "78699d28",
   "metadata": {},
   "outputs": [],
   "source": [
    "import pandas as pd\n",
    "import numpy as np\n",
    "import sklearn\n",
    "import sklearn.model_selection\n",
    "\n",
    "from sklearn.svm import LinearSVC\n",
    "from sklearn.neural_network import MLPClassifier\n",
    "from sklearn.linear_model import LogisticRegression\n",
    "\n",
    "from sklearn.metrics import accuracy_score"
   ]
  },
  {
   "cell_type": "code",
   "execution_count": null,
   "id": "dec24d7c",
   "metadata": {},
   "outputs": [],
   "source": [
    "data = pd.read_csv(\"wine.data.csv\")\n",
    "\n",
    "target = data['label']\n",
    "data = data.drop(['label'], axis=1)\n",
    "data = data.to_numpy()\n",
    "target = target.to_numpy()"
   ]
  },
  {
   "cell_type": "code",
   "execution_count": null,
   "id": "31b1e07c",
   "metadata": {},
   "outputs": [],
   "source": [
    "def train(X_train, y_train):\n",
    "    svm = LinearSVC()\n",
    "    svm.fit(X_train, y_train)\n",
    "    \n",
    "    mlp = MLPClassifier()\n",
    "    mlp.fit(X_train, y_train)\n",
    "    \n",
    "    return svm, mlp"
   ]
  },
  {
   "cell_type": "code",
   "execution_count": null,
   "id": "64978728",
   "metadata": {},
   "outputs": [],
   "source": [
    "def predict(X_valid, svm, mlp):\n",
    "\n",
    "    pred_mlp = mlp.predict(X_valid)\n",
    "    pred_svm = svm.predict(X_valid)\n",
    "    features = np.column_stack((pred_svm, pred_mlp))\n",
    "    \n",
    "    return features"
   ]
  },
  {
   "cell_type": "code",
   "execution_count": null,
   "id": "ba5ae051",
   "metadata": {},
   "outputs": [],
   "source": [
    "def meta_learn(features, y_valid):\n",
    "    \n",
    "    logistic = LogisticRegression()\n",
    "    logistic.fit(features, y_valid)\n",
    "    \n",
    "    return logistic"
   ]
  },
  {
   "cell_type": "code",
   "execution_count": null,
   "id": "e9df16ef",
   "metadata": {},
   "outputs": [],
   "source": [
    "def ensemble_predict(X_test, y_test, svm, mlp, logistic):\n",
    "\n",
    "    svm_preds = predict(X_test, svm, mlp)\n",
    "    \n",
    "    meta_preds = logistic.predict(svm_preds)\n",
    "    \n",
    "    svm_acc = accuracy_score(y_test, svm_preds[:, 0])\n",
    "    mlp_acc = accuracy_score(y_test, svm_preds[:, 1]) \n",
    "    logistic_acc = accuracy_score(y_test, meta_preds)\n",
    "    \n",
    "    return svm_acc, mlp_acc, logistic_acc"
   ]
  },
  {
   "cell_type": "code",
   "execution_count": null,
   "id": "8cc627dc",
   "metadata": {},
   "outputs": [],
   "source": [
    "performances = []\n",
    "\n",
    "kf = sklearn.model_selection.KFold(10, shuffle=False)\n",
    "for rest_index, test_index in kf.split(data):\n",
    "    \n",
    "    ## Step 1. Train/test split.\n",
    "    midpoint = int(len(rest_index)/2)\n",
    "    \n",
    "    X_train = data[rest_index[0:midpoint]]\n",
    "    y_train = target[rest_index[0:midpoint]]\n",
    "\n",
    "    X_valid = data[rest_index[midpoint:]]\n",
    "    y_valid = target[rest_index[midpoint:]]\n",
    "    \n",
    "    X_test = data[test_index]\n",
    "    y_test = target[test_index]\n",
    "\n",
    "    ## Step 2\n",
    "    svm, mlp = train(X_train, y_train)\n",
    "\n",
    "    ## Step 3\n",
    "    features = predict(X_valid, svm, mlp)\n",
    "    \n",
    "    ## Step 4\n",
    "    logistic = meta_learn(features, y_valid)\n",
    "\n",
    "    ## Step 5\n",
    "    accuracies = ensemble_predict(X_test, y_test, svm, mlp, logistic)\n",
    "\n",
    "    performances.append(accuracies)\n",
    "\n",
    "avg_accs = np.array(performances).mean(axis=0)\n",
    "print(avg_accs)"
   ]
  }
 ],
 "metadata": {
  "kernelspec": {
   "display_name": "Python 3 (ipykernel)",
   "language": "python",
   "name": "python3"
  },
  "language_info": {
   "codemirror_mode": {
    "name": "ipython",
    "version": 3
   },
   "file_extension": ".py",
   "mimetype": "text/x-python",
   "name": "python",
   "nbconvert_exporter": "python",
   "pygments_lexer": "ipython3",
   "version": "3.11.4"
  }
 },
 "nbformat": 4,
 "nbformat_minor": 5
}
